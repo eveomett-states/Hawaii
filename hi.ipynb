{
 "cells": [
  {
   "cell_type": "markdown",
   "id": "48a72edc-10d5-447e-bf59-a42b79b13098",
   "metadata": {},
   "source": [
    "# All the parameters that need to be changed"
   ]
  },
  {
   "cell_type": "code",
   "execution_count": 2,
   "id": "55545525-1a53-4366-88fa-4b4ecc94ecad",
   "metadata": {},
   "outputs": [],
   "source": [
    "# Hawaii\n",
    "state_ab = \"hi\""
   ]
  },
  {
   "cell_type": "markdown",
   "id": "c3e1bdeb-55c5-4c10-83b5-de352e6d559d",
   "metadata": {
    "tags": []
   },
   "source": [
    "## Data\n",
    "1. Download all the data in directory \"il_data\"\n",
    "2. Eextract them all"
   ]
  },
  {
   "cell_type": "code",
   "execution_count": 4,
   "id": "1cbb32f0-472b-4441-abf2-6af58699cb5f",
   "metadata": {},
   "outputs": [],
   "source": [
    "data_folder = state_ab + \"_data/\"\n",
    "population1_data = \"./{}{}_pl2020_b/{}_pl2020_p1_b.shp\".format(data_folder, state_ab, state_ab)\n",
    "population2_data = \"./{}{}_pl2020_b/{}_pl2020_p2_b.shp\".format(data_folder, state_ab, state_ab)\n",
    "vap_data =  \"./{}{}_pl2020_b/{}_pl2020_p4_b.shp\".format(data_folder, state_ab, state_ab)\n",
    "vest20_data = \"./{}{}_vest_20/{}_vest_20.shp\".format(data_folder, state_ab, state_ab)\n",
    "vest18_data = \"./{}{}_vest_18/{}_vest_18.shp\".format(data_folder, state_ab, state_ab)\n",
    "vest16_data = \"./{}{}_vest_16/{}_vest_16.shp\".format(data_folder, state_ab, state_ab)\n",
    "cd_data = \"./{}{}_cong_adopted_2022/Congressional_Final_2022.shp\".format(data_folder, state_ab)\n",
    "send_data = \"./{}{}_sldu_adopted_2022/hi_sldu_adopted_2022.shp\".format(data_folder, state_ab)\n",
    "hdist_data = \"./{}{}_sldl_adopted_2022/hi_sldl_adopted_2022.shp\".format(data_folder, state_ab)\n",
    "county_data = \"./{}{}_pl2020_cnty/{}_pl2020_cnty.shp\".format(data_folder, state_ab, state_ab)"
   ]
  },
  {
   "cell_type": "markdown",
   "id": "2594a66a-efb1-443f-8b0a-b2c73257f1cc",
   "metadata": {},
   "source": [
    "## Parameters that needs to be manually checked\n",
    "\n",
    "### base vest data\n",
    "start_col = 5\\\n",
    "vest_base_data = vest20\\\n",
    "year = '20'\n",
    "\n",
    "### district data\n",
    "district column name of cong_df, send, hdist when calling add_dist()"
   ]
  },
  {
   "cell_type": "markdown",
   "id": "d9cfe42b-cfd8-4ad4-b255-31268cb35669",
   "metadata": {},
   "source": [
    "# Program starts"
   ]
  },
  {
   "cell_type": "code",
   "execution_count": 7,
   "id": "49a264d4-c255-4393-b5ae-74b6f7c645da",
   "metadata": {},
   "outputs": [],
   "source": [
    "import pandas as pd\n",
    "import geopandas as gpd\n",
    "import maup\n",
    "import time\n",
    "from maup import smart_repair\n",
    "from gerrychain import Graph\n",
    "import os\n",
    "\n",
    "maup.progress.enabled = True"
   ]
  },
  {
   "cell_type": "code",
   "execution_count": 8,
   "id": "f78d28b6-abb4-4444-aa7e-f0eb73dab3f2",
   "metadata": {},
   "outputs": [],
   "source": [
    "import warnings\n",
    "warnings.filterwarnings(\"ignore\")"
   ]
  },
  {
   "cell_type": "code",
   "execution_count": 9,
   "id": "378425b3-9819-41bd-8212-2e031b571cf2",
   "metadata": {},
   "outputs": [],
   "source": [
    "def do_smart_repair(df, min_rook_length = None, snap_precision = 10):\n",
    "    # change it to the UTM it needs for smart_repair\n",
    "    df = df.to_crs(df.estimate_utm_crs())\n",
    "    df = smart_repair(df, min_rook_length = min_rook_length, snap_precision = snap_precision)\n",
    "\n",
    "    if maup.doctor(df) == False:\n",
    "        raise Exception('maup.doctor failed')\n",
    "    \n",
    "    return df"
   ]
  },
  {
   "cell_type": "code",
   "execution_count": 10,
   "id": "df3945da-c3af-41a8-9511-a5aba33fef0b",
   "metadata": {},
   "outputs": [],
   "source": [
    "def add_district(dist_df, dist_name, election_df, col_name):\n",
    "    # Commenting out crs changes b/c we had issues with this state\n",
    "    #election_df = election_df.to_crs(election_df.estimate_utm_crs())\n",
    "    #dist_df = dist_df.to_crs(dist_df.estimate_utm_crs())\n",
    "    # check if it needs to be smart_repair\n",
    "    if maup.doctor(dist_df) != True:\n",
    "        dist_df = do_smart_repair(dist_df)\n",
    "\n",
    "    # assign the pricincts\n",
    "    precincts_to_district_assignment = maup.assign(election_df.geometry, dist_df.geometry)\n",
    "    election_df[dist_name] = precincts_to_district_assignment\n",
    "    for precinct_index in range(len(election_df)):\n",
    "        election_df.at[precinct_index, dist_name] = dist_df.at[election_df.at[precinct_index, dist_name], col_name]\n",
    "\n",
    "    return election_df"
   ]
  },
  {
   "cell_type": "code",
   "execution_count": 11,
   "id": "29c38a31-6707-4ab3-a9e4-38d69ce6838c",
   "metadata": {},
   "outputs": [],
   "source": [
    "def rename(original, year):\n",
    "    party = original[6]\n",
    "    if party == 'R' or party == 'D':\n",
    "        return original[3:6] + year + original[6]\n",
    "    else:\n",
    "        return original[3:6] + year + 'O'"
   ]
  },
  {
   "cell_type": "code",
   "execution_count": 12,
   "id": "9cbd02f8-308e-4fe9-804a-6bc8474b749b",
   "metadata": {},
   "outputs": [],
   "source": [
    "def check_population(population, df):\n",
    "    pop_check = pd.DataFrame({\n",
    "        'pop_col': pop_col,\n",
    "        'population_df': population[pop_col].sum(), \n",
    "        'vest_base': df[pop_col].sum(),\n",
    "        'equal': [x == y for x, y in zip(population[pop_col].sum(), df[pop_col].sum())]\n",
    "    })\n",
    "    if pop_check['equal'].mean() < 1:\n",
    "        print(pop_check)\n",
    "        raise Exception(\"population doesn't agree\")\n",
    "\n",
    "    else:\n",
    "        print(\"population agrees\")"
   ]
  },
  {
   "cell_type": "code",
   "execution_count": 13,
   "id": "c4508baf-84cd-4a31-97ad-059164232e8e",
   "metadata": {},
   "outputs": [],
   "source": [
    "def add_vest(vest, df, year, population, start_col, snap_precision = 10):\n",
    "    # Commenting out crs changes b/c we had issues with this state\n",
    "    #df = df.to_crs(df.estimate_utm_crs())\n",
    "    #vest = vest.to_crs(vest.estimate_utm_crs())\n",
    "    #population = population.to_crs(population.estimate_utm_crs())\n",
    "    df_crs = df.crs\n",
    "    vest_crs = vest.crs\n",
    "    \n",
    "     # check if it needs to be smart_repair\n",
    "    if maup.doctor(vest) != True:\n",
    "        vest = do_smart_repair(vest, snap_precision = snap_precision)\n",
    "    \n",
    "    # rename the columns\n",
    "    original_col = vest.columns[start_col:-1]\n",
    "    new_col = [rename(i, year) for i in original_col]\n",
    "    rename_dict = dict(zip(original_col, new_col))\n",
    "    vest = vest.rename(columns=rename_dict)\n",
    "    vest = vest.groupby(level=0, axis=1).sum() # combine all the other party's vote into columns with sufix \"O\"\n",
    "    col_name = list(set(new_col))\n",
    "    col_name.sort()\n",
    "    \n",
    "    # make the blocks from precincts by weight\n",
    "    vest = gpd.GeoDataFrame(vest, crs=vest_crs)\n",
    "    election_in_block = population[[\"VAP\", 'geometry']] # population_df is in block scale\n",
    "    blocks_to_precincts_assignment = maup.assign(election_in_block.geometry, vest.geometry)\n",
    "    weights = election_in_block[\"VAP\"] / blocks_to_precincts_assignment.map(election_in_block[\"VAP\"].groupby(blocks_to_precincts_assignment).sum())\n",
    "    weights = weights.fillna(0)\n",
    "    prorated = maup.prorate(blocks_to_precincts_assignment, vest[col_name], weights)\n",
    "    election_in_block[col_name] = prorated\n",
    "    \n",
    "    # assign blocks to precincts\n",
    "    election_in_block = gpd.GeoDataFrame(election_in_block, crs=vest_crs)\n",
    "    df = gpd.GeoDataFrame(df, crs=df_crs)\n",
    "    block_to_pricinct_assginment = maup.assign(election_in_block.geometry, df.geometry)\n",
    "    df[col_name] = election_in_block[col_name].groupby(block_to_pricinct_assginment).sum()\n",
    "    df = df.groupby(level=0, axis=1).sum()\n",
    "    df = gpd.GeoDataFrame(df, crs = df_crs)\n",
    "    # check if population agrees\n",
    "    check_population(population, df)\n",
    "    \n",
    "    return df"
   ]
  },
  {
   "cell_type": "code",
   "execution_count": 14,
   "id": "d4aa2760-8152-44d7-b440-d434b5ab6f04",
   "metadata": {},
   "outputs": [],
   "source": [
    "def add_vest_base(vest, start_col, year, county = None, min_rook_length = None, snap_precision = 10):\n",
    "    # Removed below b/c otherwise there were crs utm issues\n",
    "    #vest = vest.to_crs(vest.estimate_utm_crs())\n",
    "    vest_crs = vest.crs\n",
    "    original_col = vest.columns[start_col:-1]\n",
    "    new_col = [rename(i, year) for i in original_col]\n",
    "    rename_dict = dict(zip(original_col, new_col))\n",
    "    vest = vest.rename(columns=rename_dict)\n",
    "    vest = vest.groupby(level=0, axis=1).sum()\n",
    "    vest = gpd.GeoDataFrame(vest, crs=vest_crs)\n",
    "\n",
    "    if county is not None:\n",
    "        #county = county.to_crs(county.estimate_utm_crs())\n",
    "        vest = smart_repair(vest, nest_within_regions = county, min_rook_length = min_rook_length, snap_precision = snap_precision) # nest precincts within counties\n",
    "\n",
    "    else:\n",
    "        vest = smart_repair(vest, min_rook_length = min_rook_length, snap_precision = snap_precision) \n",
    "    \n",
    "    return vest"
   ]
  },
  {
   "cell_type": "code",
   "execution_count": 15,
   "id": "e07ce13b-aac6-4222-90e8-6a94ed66cf04",
   "metadata": {},
   "outputs": [],
   "source": [
    "def check_small_boundary_lengths(vest_base):\n",
    "    import copy\n",
    "    vest_base = vest_base.to_crs(vest_base.estimate_utm_crs())\n",
    "\n",
    "    boundaries = copy.deepcopy(vest_base)\n",
    "    boundaries[\"geometry\"] = boundaries.geometry.boundary  # get boundaries\n",
    "    neighbors = gpd.sjoin(boundaries, vest_base, predicate=\"intersects\") # find boundaries that intersect\n",
    "    neighbors = neighbors[neighbors.index != neighbors.index_right] # remove boundaries of a region with itself\n",
    "\n",
    "    # compute shared border length using intersection\n",
    "    borders = list(neighbors.apply(\n",
    "        lambda row: row.geometry.intersection(vest_base.loc[row.index_right, \"geometry\"]).length, axis=1\n",
    "    ))\n",
    "\n",
    "    borders.sort()\n",
    "    \n",
    "    return borders"
   ]
  },
  {
   "cell_type": "markdown",
   "id": "ab6ce8f5-f237-4d6c-8425-cd8a0b080f65",
   "metadata": {},
   "source": [
    "## Read the census data"
   ]
  },
  {
   "cell_type": "code",
   "execution_count": 17,
   "id": "185d2b84-d37f-4f24-86c1-1bcd0b4347e2",
   "metadata": {},
   "outputs": [],
   "source": [
    "population1_df = gpd.read_file(population1_data)\n",
    "population2_df = gpd.read_file(population2_data)\n",
    "vap_df = gpd.read_file(vap_data)\n",
    "county_df = gpd.read_file(county_data)"
   ]
  },
  {
   "cell_type": "code",
   "execution_count": 18,
   "id": "57b3b9bb-9721-469d-8eee-0dd5eb0e6015",
   "metadata": {},
   "outputs": [],
   "source": [
    "population2_df = population2_df.drop(columns=['SUMLEV', 'LOGRECNO', 'GEOID', 'COUNTY', 'geometry'])\n",
    "vap_df = vap_df.drop(columns=['SUMLEV', 'LOGRECNO', 'GEOID', 'COUNTY', 'geometry'])"
   ]
  },
  {
   "cell_type": "code",
   "execution_count": 19,
   "id": "daa935f7-bc02-4856-adb0-9cc9cf31ffca",
   "metadata": {},
   "outputs": [],
   "source": [
    "population_df = pd.merge(population1_df, population2_df, on='GEOID20')\n",
    "population_df = pd.merge(population_df, vap_df, on='GEOID20')\n",
    "population_df = population_df.to_crs(population_df.estimate_utm_crs())"
   ]
  },
  {
   "cell_type": "code",
   "execution_count": 20,
   "id": "0845f50e-9920-404a-8284-c47df7b0f6ce",
   "metadata": {},
   "outputs": [],
   "source": [
    "rename_dict = {'P0020001': 'TOTPOP', 'P0020002': 'HISP', 'P0020005': 'NH_WHITE', 'P0020006': 'NH_BLACK', 'P0020007': 'NH_AMIN',\n",
    "               'P0020008': 'NH_ASIAN', 'P0020009': 'NH_NHPI', 'P0020010': 'NH_OTHER', 'P0020011': 'NH_2MORE',\n",
    "               'P0040001': 'VAP', 'P0040002': 'HVAP', 'P0040005': 'WVAP', 'P0040006': 'BVAP', 'P0040007': 'AMINVAP',\n",
    "               'P0040008': 'ASIANVAP', 'P0040009': 'NHPIVAP', 'P0040010': 'OTHERVAP', 'P0040011': '2MOREVAP'}"
   ]
  },
  {
   "cell_type": "code",
   "execution_count": 21,
   "id": "4d4f9723-ad23-46ff-bbd0-8d4ab628b69b",
   "metadata": {},
   "outputs": [],
   "source": [
    "population_df.rename(columns=rename_dict, inplace = True)"
   ]
  },
  {
   "cell_type": "code",
   "execution_count": 22,
   "id": "9550a841-5692-4d5f-a7f1-131d53eb9f12",
   "metadata": {},
   "outputs": [],
   "source": [
    "population_df['H_WHITE'] = population_df.apply(lambda t: t['P0010003'] - t['NH_WHITE'], 1)\n",
    "population_df['H_BLACK'] = population_df.apply(lambda t: t['P0010004'] - t['NH_BLACK'], 1)\n",
    "population_df['H_AMIN'] = population_df.apply(lambda t: t['P0010005'] - t['NH_AMIN'], 1)\n",
    "population_df['H_ASIAN'] = population_df.apply(lambda t: t['P0010006'] - t['NH_ASIAN'], 1)\n",
    "population_df['H_NHPI'] = population_df.apply(lambda t: t['P0010007'] - t['NH_NHPI'], 1)\n",
    "population_df['H_OTHER'] = population_df.apply(lambda t: t['P0010008'] - t['NH_OTHER'], 1)\n",
    "population_df['H_2MORE'] = population_df.apply(lambda t: t['P0010009'] - t['NH_2MORE'], 1)"
   ]
  },
  {
   "cell_type": "code",
   "execution_count": 23,
   "id": "57c164ea-50df-43b9-b48a-a97bbf18f760",
   "metadata": {},
   "outputs": [
    {
     "name": "stderr",
     "output_type": "stream",
     "text": [
      "100%|███████████████████████████████████████████| 5/5 [00:00<00:00, 1328.07it/s]\n"
     ]
    },
    {
     "data": {
      "text/plain": [
       "True"
      ]
     },
     "execution_count": 23,
     "metadata": {},
     "output_type": "execute_result"
    }
   ],
   "source": [
    "county_df = county_df.to_crs(county_df.estimate_utm_crs())\n",
    "maup.doctor(county_df)"
   ]
  },
  {
   "cell_type": "markdown",
   "id": "e1e89689-06e1-4937-9bee-b0442bfc33d5",
   "metadata": {},
   "source": [
    "# Read the base vest data\n",
    "Now using it as a \"base precinct\", but it could be vest 18 or vest 16 if vest 20 is not working"
   ]
  },
  {
   "cell_type": "markdown",
   "id": "bcfb3af1-db89-4463-98d8-3a0192067bb4",
   "metadata": {},
   "source": [
    "### Check if vest 20 can be used as base"
   ]
  },
  {
   "cell_type": "code",
   "execution_count": 26,
   "id": "397e9936-bfde-4b09-9dcb-207733dfb2dd",
   "metadata": {},
   "outputs": [],
   "source": [
    "vest20 = gpd.read_file(vest20_data)"
   ]
  },
  {
   "cell_type": "markdown",
   "id": "20718edd-b876-4d8d-8509-5eeee4b9b9be",
   "metadata": {},
   "source": [
    "### If it is true for maup doctor, we will use it as the base vest data.\n",
    "Check where the election column starts, this should be the same for all vest data in that state"
   ]
  },
  {
   "cell_type": "code",
   "execution_count": 28,
   "id": "2d744be1-7568-4b94-a383-17d219ac128b",
   "metadata": {},
   "outputs": [
    {
     "data": {
      "text/plain": [
       "Index(['COUNTYFP', 'STATEFP', 'PRECINCT', 'GEOID', 'G20PREDBID', 'G20PRERTRU',\n",
       "       'G20PRELJOR', 'G20PREGHAW', 'G20PRECBLA', 'G20PREOPIE', 'geometry'],\n",
       "      dtype='object')"
      ]
     },
     "execution_count": 28,
     "metadata": {},
     "output_type": "execute_result"
    }
   ],
   "source": [
    "vest20.columns"
   ]
  },
  {
   "cell_type": "markdown",
   "id": "65620cab-599f-4232-818e-e85846d02694",
   "metadata": {},
   "source": [
    "## Parameters that need to be checked\n",
    "\n",
    "We had to be extra careful with the crs's for this state"
   ]
  },
  {
   "cell_type": "code",
   "execution_count": 30,
   "id": "4200a0f8-29dd-42f9-96e4-ff27188ce32a",
   "metadata": {},
   "outputs": [],
   "source": [
    "start_col = 4\n",
    "year = '20'"
   ]
  },
  {
   "cell_type": "code",
   "execution_count": 31,
   "id": "b506b6e6-abcb-4c8f-9937-660eb1cbfc8e",
   "metadata": {},
   "outputs": [],
   "source": [
    "vest20 = vest20.to_crs(vest20.estimate_utm_crs())"
   ]
  },
  {
   "cell_type": "code",
   "execution_count": 32,
   "id": "9b54e044-15f8-44fd-8fc3-c6d79f31f2e5",
   "metadata": {},
   "outputs": [],
   "source": [
    "vest20 = vest20.to_crs(county_df.crs)\n",
    "vest_base_data = vest20"
   ]
  },
  {
   "cell_type": "code",
   "execution_count": 33,
   "id": "8b0a1996-38fe-4eee-a0c4-1d9f3cc0f440",
   "metadata": {},
   "outputs": [
    {
     "data": {
      "text/plain": [
       "<Projected CRS: EPSG:32603>\n",
       "Name: WGS 84 / UTM zone 3N\n",
       "Axis Info [cartesian]:\n",
       "- E[east]: Easting (metre)\n",
       "- N[north]: Northing (metre)\n",
       "Area of Use:\n",
       "- name: Between 168°W and 162°W, northern hemisphere between equator and 84°N, onshore and offshore. United States (USA) - Alaska (AK).\n",
       "- bounds: (-168.0, 0.0, -162.0, 84.0)\n",
       "Coordinate Operation:\n",
       "- name: UTM zone 3N\n",
       "- method: Transverse Mercator\n",
       "Datum: World Geodetic System 1984 ensemble\n",
       "- Ellipsoid: WGS 84\n",
       "- Prime Meridian: Greenwich"
      ]
     },
     "execution_count": 33,
     "metadata": {},
     "output_type": "execute_result"
    }
   ],
   "source": [
    "county_df.crs"
   ]
  },
  {
   "cell_type": "code",
   "execution_count": 34,
   "id": "a638539f-1b09-468d-979b-6f77625032d6",
   "metadata": {},
   "outputs": [
    {
     "data": {
      "text/plain": [
       "<Projected CRS: EPSG:32603>\n",
       "Name: WGS 84 / UTM zone 3N\n",
       "Axis Info [cartesian]:\n",
       "- E[east]: Easting (metre)\n",
       "- N[north]: Northing (metre)\n",
       "Area of Use:\n",
       "- name: Between 168°W and 162°W, northern hemisphere between equator and 84°N, onshore and offshore. United States (USA) - Alaska (AK).\n",
       "- bounds: (-168.0, 0.0, -162.0, 84.0)\n",
       "Coordinate Operation:\n",
       "- name: UTM zone 3N\n",
       "- method: Transverse Mercator\n",
       "Datum: World Geodetic System 1984 ensemble\n",
       "- Ellipsoid: WGS 84\n",
       "- Prime Meridian: Greenwich"
      ]
     },
     "execution_count": 34,
     "metadata": {},
     "output_type": "execute_result"
    }
   ],
   "source": [
    "vest_base_data.crs"
   ]
  },
  {
   "cell_type": "code",
   "execution_count": 35,
   "id": "728420ec-9df2-4771-ae4c-1832fe3fb12f",
   "metadata": {},
   "outputs": [
    {
     "name": "stderr",
     "output_type": "stream",
     "text": [
      "100%|███████████████████████████████████████████| 5/5 [00:00<00:00, 2084.23it/s]\n"
     ]
    },
    {
     "name": "stdout",
     "output_type": "stream",
     "text": [
      "Snapping all geometries to a grid with precision 10^( -5 ) to avoid GEOS errors.\n"
     ]
    },
    {
     "name": "stderr",
     "output_type": "stream",
     "text": [
      "100%|████████████████████████████████████████████| 5/5 [00:00<00:00, 878.76it/s]\n",
      "100%|████████████████████████████████████████████| 5/5 [00:00<00:00, 846.99it/s]\n"
     ]
    },
    {
     "name": "stdout",
     "output_type": "stream",
     "text": [
      "Identifying overlaps...\n"
     ]
    },
    {
     "name": "stderr",
     "output_type": "stream",
     "text": [
      "100%|███████████████████████████████████████| 395/395 [00:00<00:00, 2457.90it/s]\n"
     ]
    },
    {
     "name": "stdout",
     "output_type": "stream",
     "text": [
      "Resolving overlaps and filling gaps...\n"
     ]
    },
    {
     "name": "stderr",
     "output_type": "stream",
     "text": [
      "100%|████████████████████████████████████████████| 5/5 [00:00<00:00, 921.99it/s]\n",
      "100%|████████████████████████████████████████████| 5/5 [00:00<00:00, 852.81it/s]\n"
     ]
    },
    {
     "name": "stdout",
     "output_type": "stream",
     "text": [
      "1 gaps in region 0 will remain unfilled, because they either are not simply connected or exceed the area threshold.\n"
     ]
    },
    {
     "name": "stderr",
     "output_type": "stream",
     "text": [
      "Gaps to simplify in region 0: 100%|█████████████| 49/49 [00:00<00:00, 79.86it/s]\n",
      "Gaps to fill: 0it [00:00, ?it/s]\n"
     ]
    },
    {
     "name": "stdout",
     "output_type": "stream",
     "text": [
      "2 gaps in region 1 will remain unfilled, because they either are not simply connected or exceed the area threshold.\n"
     ]
    },
    {
     "name": "stderr",
     "output_type": "stream",
     "text": [
      "Gaps to simplify in region 1: 100%|██████████████| 1/1 [00:00<00:00, 265.13it/s]\n"
     ]
    },
    {
     "name": "stdout",
     "output_type": "stream",
     "text": [
      "Found a component of the region at index 1 that does not intersect any geometry assigned to that region.\n"
     ]
    },
    {
     "name": "stderr",
     "output_type": "stream",
     "text": [
      "Gaps to fill: 0it [00:00, ?it/s]\n"
     ]
    },
    {
     "name": "stdout",
     "output_type": "stream",
     "text": [
      "3 gaps in region 2 will remain unfilled, because they either are not simply connected or exceed the area threshold.\n"
     ]
    },
    {
     "name": "stderr",
     "output_type": "stream",
     "text": [
      "Gaps to simplify in region 2: 100%|█████████████| 49/49 [00:00<00:00, 59.42it/s]\n",
      "Gaps to fill in region 2: 100%|███████████████████| 1/1 [00:00<00:00, 20.29it/s]\n"
     ]
    },
    {
     "name": "stdout",
     "output_type": "stream",
     "text": [
      "1 gaps in region 3 will remain unfilled, because they either are not simply connected or exceed the area threshold.\n"
     ]
    },
    {
     "name": "stderr",
     "output_type": "stream",
     "text": [
      "Gaps to simplify: 0it [00:00, ?it/s]\n",
      "Gaps to fill: 0it [00:00, ?it/s]\n"
     ]
    },
    {
     "name": "stdout",
     "output_type": "stream",
     "text": [
      "1 gaps in region 4 will remain unfilled, because they either are not simply connected or exceed the area threshold.\n"
     ]
    },
    {
     "name": "stderr",
     "output_type": "stream",
     "text": [
      "Gaps to simplify in region 4: 100%|████████████| 12/12 [00:00<00:00, 189.53it/s]\n"
     ]
    },
    {
     "name": "stdout",
     "output_type": "stream",
     "text": [
      "Found a component of the region at index 4 that does not intersect any geometry assigned to that region.\n",
      "Found a component of the region at index 4 that does not intersect any geometry assigned to that region.\n",
      "Found a component of the region at index 4 that does not intersect any geometry assigned to that region.\n",
      "Found a component of the region at index 4 that does not intersect any geometry assigned to that region.\n",
      "Found a component of the region at index 4 that does not intersect any geometry assigned to that region.\n",
      "Found a component of the region at index 4 that does not intersect any geometry assigned to that region.\n",
      "Found a component of the region at index 4 that does not intersect any geometry assigned to that region.\n",
      "Found a component of the region at index 4 that does not intersect any geometry assigned to that region.\n",
      "Found a component of the region at index 4 that does not intersect any geometry assigned to that region.\n"
     ]
    },
    {
     "name": "stderr",
     "output_type": "stream",
     "text": [
      "Gaps to fill in region 4: 100%|███████████████████| 2/2 [00:00<00:00, 97.40it/s]\n"
     ]
    }
   ],
   "source": [
    "vest_base = add_vest_base(vest_base_data, start_col, year, county = county_df)"
   ]
  },
  {
   "cell_type": "code",
   "execution_count": 36,
   "id": "343b3265-8114-4e96-a85f-741aff166968",
   "metadata": {},
   "outputs": [
    {
     "name": "stdout",
     "output_type": "stream",
     "text": [
      "[0.0, 0.0, 0.0, 0.0, 0.0, 0.0, 0.0, 0.0, 0.0, 0.0, 0.0, 0.0, 0.0, 0.0, 0.0, 0.0, 0.0, 0.0, 0.0, 0.0, 0.0, 0.0, 0.0, 0.0, 0.0, 0.0, 0.0, 0.0, 0.0, 0.0, 0.0, 0.0, 0.0, 0.0, 0.0, 0.0, 0.0, 0.0, 0.0, 0.0, 0.0, 0.0, 0.0, 0.0, 0.0, 0.0, 0.0, 0.0, 0.0, 0.0, 0.0, 0.0, 0.0, 0.0, 0.0, 0.0, 0.0, 0.0, 0.0, 0.0, 0.0, 0.0, 0.0, 0.0, 0.0, 0.0, 0.0, 0.0, 0.0, 0.0, 0.0, 0.0, 0.0, 0.0, 0.0, 0.0, 0.0, 0.0, 0.0, 0.0, 0.0, 0.0, 0.0, 0.0, 0.0, 0.0, 0.0, 0.0, 0.0, 0.0, 0.0, 0.0, 0.0, 0.0, 0.0, 0.0, 0.0, 0.0, 0.0, 0.0, 0.0, 0.0, 0.0, 0.0, 0.0, 0.0, 0.0, 0.0, 0.0, 0.0, 0.0, 0.0, 0.0, 0.0, 0.0, 0.0, 0.0, 0.0, 0.0, 0.0, 0.0, 0.0, 0.0, 0.0, 0.0, 0.0, 0.0, 0.0, 0.13173783601089376, 0.13173783601089376, 8.88224937940034, 8.88224937940034, 9.334727544666022, 9.334727544666022, 12.130296851457372, 12.130296851457372, 18.12358440642744, 18.12358440642744, 29.560504825311675, 29.56050482531168, 32.39755784662127, 32.39755784662127, 41.83260522596468, 41.83260522596468, 46.523249535668214, 46.523249535668214, 48.26493538052674, 48.26493538052674, 54.11330696895739, 54.11330696895739, 65.68879382373392, 65.68879382373393, 78.04025973469322, 78.04025973469322, 83.70590814685485, 83.70590814685485, 103.95879433186406, 103.95879433186406, 105.33403617734626, 105.33403617734628, 106.90664094548637, 106.90664094548637, 108.21617177835225, 108.21617177835225, 109.20357124149187, 109.20357124149187, 111.21315885486786, 111.21315885486786, 117.84498387761121, 117.84498387761121, 120.08986120781834, 120.08986120781836, 120.11173423852223, 120.11173423852223, 121.69135604675827, 121.69135604675827, 136.14231860011063, 136.14231860011063, 140.12402120707435, 140.12402120707435, 140.55267929761436, 140.55267929761436, 141.92357957625097, 141.92357957625097, 145.11592480404988, 145.11592480404988, 151.264015677705, 151.264015677705, 157.99707182171542, 157.99707182171542, 158.49544784041893, 158.49544784041893, 169.97680395963621, 169.97680395963621, 170.15331416297983, 170.15331416297983, 179.17146341613096, 179.17146341613096, 185.9645252628553, 185.9645252628553, 194.14812379252893, 194.14812379252896, 210.27871942977487, 210.2787194297749, 213.87364837221799, 213.873648372218, 215.9926608001654, 215.99266080016542, 218.0392598169881, 218.0392598169881, 229.96962438777638, 229.96962438777638, 236.83883122467142, 236.83883122467145, 240.10853282217087, 240.10853282217087, 253.23251112538597, 253.232511125386, 272.44967526526773, 272.44967526526773, 280.5976008478063, 280.5976008478063, 286.7783391286972, 286.77833912869727, 294.1013515024861, 294.1013515024861, 299.4883848168504, 299.48838481685044, 308.3834140593942, 308.3834140593942, 331.95217243813994, 331.95217243813994, 336.09653389155386, 336.09653389155386, 349.2345516671037, 349.2345516671037, 351.90108204913287, 351.90108204913287, 359.2435944624624, 359.24359446246245, 362.5227246178579, 362.52272461785793, 362.974059108956, 362.974059108956, 364.360981505345, 364.360981505345, 378.13194305593163, 378.13194305593174, 405.47280777999555, 405.4728077799956, 408.7103903067807, 408.7103903067807, 410.53870673228744, 410.53870673228744, 412.1070755237717, 412.1070755237717, 415.1417005550945, 415.14170055509453, 415.8848490865196, 415.8848490865196, 437.1569612839001, 437.1569612839002, 439.99937241796414, 439.99937241796414, 441.1088762182539, 441.10887621825395, 463.48250407730717, 463.4825040773073, 464.0871065369627, 464.0871065369627, 465.96232511701754, 465.9623251170176, 467.84735448799245, 467.84735448799245, 472.48287863222913, 472.48287863222913, 475.28456105772534, 475.28456105772534, 483.20116547577464, 483.20116547577464, 487.1755441590367, 487.17554415903675, 489.4228570787952, 489.4228570787952, 489.9460829729752, 489.94608297297526, 491.24680606058234, 491.24680606058234, 496.29812712961785, 496.2981271296179, 514.631568377818, 514.631568377818, 519.9341422374025, 519.9341422374025, 536.2309421156963, 536.2309421156963, 540.4466748070529, 540.4466748070529, 541.8162847270794, 541.8162847270795, 544.9248949438174, 544.9248949438174, 548.2072867643806, 548.2072867643806, 559.5610351860437, 559.5610351860437, 559.5667217430898, 559.5667217430899, 561.3771935378479, 561.377193537848, 562.832618779473, 562.832618779473, 575.9778454793877, 575.9778454793877, 576.4759074415814, 576.4759074415814, 583.5661923092403, 583.5661923092403, 584.0346475715919, 584.034647571592, 598.2305813738029, 598.2305813738029, 598.3634054949307, 598.3634054949308, 604.8968610617967, 604.8968610617967, 606.7628785311979, 606.7628785311979, 613.4982990854306, 613.4982990854307, 621.4013284600056, 621.4013284600057, 634.7922444053702, 634.7922444053705, 635.5584497234031, 635.5584497234032, 637.1726938219437, 637.1726938219438, 639.5551728242286, 639.5551728242287, 644.6498867680352, 644.6498867680352, 647.1783641833722, 647.1783641833724, 651.948607036205, 651.9486070362051, 675.1891679612476, 675.1891679612477, 681.1126038493676, 681.1126038493676, 705.8841749228598, 705.8841749228599, 718.0329168025908, 718.0329168025908, 721.8168810753785, 721.8168810753789, 733.5880729674524, 733.5880729674524, 735.0465310842048, 735.046531084205, 742.418971477465, 742.418971477465, 743.1510486081299, 743.15104860813, 745.8124360710624, 745.8124360710624, 747.4791700603365, 747.4791700603366, 749.6020904650719, 749.602090465072, 754.8973601120681, 754.8973601120681, 761.3601686127602, 761.3601686127603, 766.072493880335, 766.072493880335, 775.8437727201028, 775.8437727201028, 780.9295621384116, 780.9295621384117, 781.3445862505955, 781.3445862505956, 784.6163959258031, 784.6163959258033, 787.4045370900121, 787.4045370900121, 787.5496560231159, 787.5496560231161, 794.2065663338406, 794.2065663338407, 801.3351934828355, 801.3351934828355, 809.0261603292112, 809.0261603292112, 809.2559567124968, 809.2559567124969, 818.4397289206645, 818.4397289206645, 820.4827119893555, 820.4827119893556, 821.8098287380027, 821.8098287380027, 823.3700592294116, 823.3700592294117, 827.1990291722869, 827.199029172287, 845.5759132602313, 845.5759132602315, 847.9238087569177, 847.9238087569178, 860.0138615060761, 860.0138615060763, 875.0263477834043, 875.0263477834044, 886.9957246032632, 886.9957246032633, 899.5086451325153, 899.5086451325153, 903.8880373847594, 903.8880373847595, 909.9534191474817, 909.9534191474818, 910.4113516448383, 910.4113516448383, 911.0726732165857, 911.0726732165858, 912.57922384073, 912.57922384073, 924.9231814977718, 924.9231814977721, 930.5201115509619, 930.520111550962, 935.1638965860693, 935.1638965860694, 936.5764040031005, 936.5764040031006, 940.1414392479329, 940.1414392479329, 944.0891333703853, 944.0891333703854, 945.8615212072818, 945.8615212072818, 952.275524898587, 952.2755248985872, 973.3321488584882, 973.3321488584883, 978.9529008465958, 978.9529008465958, 993.3004792980904, 993.3004792980904, 995.5329516347548, 995.5329516347549, 996.1187233976785, 996.1187233976785, 998.4717099671177, 998.4717099671178, 998.8010866752234, 998.8010866752236, 1002.855748686163, 1002.8557486861631, 1008.0550499169136, 1008.0550499169138, 1016.8094548071194, 1016.8094548071196, 1023.5408961583661, 1023.5408961583662, 1023.76075067556, 1023.7607506755603, 1028.4260080583995, 1028.4260080583995, 1033.611933162217, 1033.6119331622172, 1035.3003396663298, 1035.3003396663298, 1042.4136540465076, 1042.4136540465076, 1044.669902741718, 1044.669902741718, 1045.1025177240338, 1045.1025177240338, 1048.753624301601, 1048.7536243016011, 1051.3010852189457, 1051.3010852189457, 1053.680648455717, 1053.680648455717, 1060.6177939487382, 1060.6177939487384, 1061.4479997613282, 1061.4479997613284, 1066.1432164339121, 1066.1432164339121, 1066.445769683445, 1066.445769683445, 1070.55107211273, 1070.5510721127303, 1082.2486679495355, 1082.248667949536, 1095.965235846603, 1095.965235846603]\n"
     ]
    }
   ],
   "source": [
    "borders = check_small_boundary_lengths(vest_base)\n",
    "print(borders[:500])"
   ]
  },
  {
   "cell_type": "code",
   "execution_count": 37,
   "id": "13d0211f-5ab6-4425-ac0b-12282f361731",
   "metadata": {},
   "outputs": [
    {
     "name": "stdout",
     "output_type": "stream",
     "text": [
      "Snapping all geometries to a grid with precision 10^( -5 ) to avoid GEOS errors.\n",
      "Identifying overlaps...\n"
     ]
    },
    {
     "name": "stderr",
     "output_type": "stream",
     "text": [
      "100%|███████████████████████████████████████| 269/269 [00:00<00:00, 3977.89it/s]\n"
     ]
    },
    {
     "name": "stdout",
     "output_type": "stream",
     "text": [
      "Resolving overlaps...\n",
      "Filling gaps...\n"
     ]
    },
    {
     "name": "stderr",
     "output_type": "stream",
     "text": [
      "Gaps to simplify: 0it [00:00, ?it/s]\n",
      "Gaps to fill: 0it [00:00, ?it/s]\n"
     ]
    },
    {
     "name": "stdout",
     "output_type": "stream",
     "text": [
      "Converting small rook adjacencies to queen...\n"
     ]
    },
    {
     "name": "stderr",
     "output_type": "stream",
     "text": [
      "100%|███████████████████████████████████████| 262/262 [00:00<00:00, 1024.61it/s]\n",
      "100%|███████████████████████████████████████████| 5/5 [00:00<00:00, 3373.80it/s]\n",
      "100%|███████████████████████████████████████████| 4/4 [00:00<00:00, 3401.71it/s]\n",
      "100%|███████████████████████████████████████████| 4/4 [00:00<00:00, 3330.80it/s]\n",
      "100%|███████████████████████████████████████████| 4/4 [00:00<00:00, 3062.65it/s]\n",
      "100%|███████████████████████████████████████████| 4/4 [00:00<00:00, 3306.51it/s]\n",
      "100%|███████████████████████████████████████████| 4/4 [00:00<00:00, 3358.13it/s]\n",
      "100%|███████████████████████████████████████| 262/262 [00:00<00:00, 1049.97it/s]\n"
     ]
    }
   ],
   "source": [
    "vest_base = do_smart_repair(vest_base, min_rook_length = 30)"
   ]
  },
  {
   "cell_type": "code",
   "execution_count": 38,
   "id": "ebf4bdec-788a-49fe-8cbc-f12433559d9a",
   "metadata": {},
   "outputs": [
    {
     "name": "stderr",
     "output_type": "stream",
     "text": [
      "100%|███████████████████████████████████████| 262/262 [00:00<00:00, 1042.09it/s]\n"
     ]
    },
    {
     "data": {
      "text/plain": [
       "True"
      ]
     },
     "execution_count": 38,
     "metadata": {},
     "output_type": "execute_result"
    }
   ],
   "source": [
    "maup.doctor(vest_base)"
   ]
  },
  {
   "cell_type": "markdown",
   "id": "8be77cd3-d860-4cf6-a570-ecb621961aca",
   "metadata": {},
   "source": [
    "Now we need to switch the crs back . . ."
   ]
  },
  {
   "cell_type": "code",
   "execution_count": 40,
   "id": "fd276981-adde-4022-ae90-f02674faeba7",
   "metadata": {},
   "outputs": [],
   "source": [
    "vest_base = vest_base.to_crs(population_df.crs)"
   ]
  },
  {
   "cell_type": "code",
   "execution_count": 41,
   "id": "10e48467-d392-4312-b15f-bf18106f354c",
   "metadata": {},
   "outputs": [
    {
     "name": "stderr",
     "output_type": "stream",
     "text": [
      "100%|███████████████████████████████████████| 262/262 [00:00<00:00, 1090.92it/s]\n",
      "100%|████████████████████████████████████████| 262/262 [00:01<00:00, 231.63it/s]\n"
     ]
    }
   ],
   "source": [
    "# vap and population have the same GEOID20\n",
    "blocks_to_precincts_assignment = maup.assign(population_df.geometry, vest_base.geometry)"
   ]
  },
  {
   "cell_type": "code",
   "execution_count": 42,
   "id": "ac015a92-391c-48c4-b26a-5c511b58e3ab",
   "metadata": {},
   "outputs": [],
   "source": [
    "pop_col = ['TOTPOP', 'HISP', 'NH_WHITE', 'NH_BLACK', 'NH_AMIN', 'NH_ASIAN', 'NH_NHPI', 'NH_OTHER', 'NH_2MORE', 'H_WHITE', 'H_BLACK', 'H_AMIN', 'H_ASIAN', 'H_NHPI', 'H_OTHER', 'H_2MORE', 'VAP', 'HVAP', 'WVAP', 'BVAP', 'AMINVAP', 'ASIANVAP', 'NHPIVAP', 'OTHERVAP', '2MOREVAP']"
   ]
  },
  {
   "cell_type": "code",
   "execution_count": 43,
   "id": "f91b6866-727d-40c9-9d43-4a0e6ae8c0e2",
   "metadata": {},
   "outputs": [],
   "source": [
    "vest_base[pop_col] = population_df[pop_col].groupby(blocks_to_precincts_assignment).sum()"
   ]
  },
  {
   "cell_type": "code",
   "execution_count": 44,
   "id": "ead5880d-f5f1-44f0-8024-ff4789ff2f15",
   "metadata": {},
   "outputs": [],
   "source": [
    "election_df = gpd.GeoDataFrame(vest_base)"
   ]
  },
  {
   "cell_type": "markdown",
   "id": "cf1aefdb-30e0-4d1f-9261-01a513f4e1d3",
   "metadata": {},
   "source": [
    "### Check if the population agrees"
   ]
  },
  {
   "cell_type": "code",
   "execution_count": 46,
   "id": "d6ff200d-d1d6-4f7d-ba3b-142cddc0eb85",
   "metadata": {},
   "outputs": [
    {
     "name": "stdout",
     "output_type": "stream",
     "text": [
      "population agrees\n"
     ]
    }
   ],
   "source": [
    "check_population(population_df, vest_base)"
   ]
  },
  {
   "cell_type": "markdown",
   "id": "2b677d1a-cbe3-47aa-ae8a-761d0dfc7ad1",
   "metadata": {},
   "source": [
    "# Add more vest data\n",
    "We adjusted the crs here b/c we had two common utm crs's for Hawaii and needed to just pick one."
   ]
  },
  {
   "cell_type": "code",
   "execution_count": 48,
   "id": "a404637a-46a1-41f4-bd81-6842a9a7274c",
   "metadata": {},
   "outputs": [],
   "source": [
    "vest18 = gpd.read_file(vest18_data)"
   ]
  },
  {
   "cell_type": "code",
   "execution_count": 49,
   "id": "d94c3765-b784-4e9b-9b29-0c8a3bbdbf0d",
   "metadata": {},
   "outputs": [
    {
     "data": {
      "text/plain": [
       "Index(['COUNTY', 'PRECINCT', 'G18USSDHIR', 'G18USSRCUR', 'G18GOVDIGE',\n",
       "       'G18GOVRTUP', 'G18GOVGBRE', 'G18GOVITER', 'geometry'],\n",
       "      dtype='object')"
      ]
     },
     "execution_count": 49,
     "metadata": {},
     "output_type": "execute_result"
    }
   ],
   "source": [
    "vest18.columns"
   ]
  },
  {
   "cell_type": "code",
   "execution_count": 50,
   "id": "629d7194-895f-4d20-b42b-ca082de1e9f3",
   "metadata": {},
   "outputs": [],
   "source": [
    "vest18 = vest18.to_crs(election_df.crs)"
   ]
  },
  {
   "cell_type": "code",
   "execution_count": 51,
   "id": "5528f64a-1b5c-4b9f-b7cf-aefa45d4d25f",
   "metadata": {},
   "outputs": [
    {
     "name": "stderr",
     "output_type": "stream",
     "text": [
      "100%|███████████████████████████████████████| 262/262 [00:00<00:00, 1038.87it/s]\n"
     ]
    },
    {
     "name": "stdout",
     "output_type": "stream",
     "text": [
      "There are 4 overlaps.\n",
      "There are 3 holes.\n",
      "There are some invalid geometries.\n",
      "Snapping all geometries to a grid with precision 10^( -5 ) to avoid GEOS errors.\n",
      "Identifying overlaps...\n"
     ]
    },
    {
     "name": "stderr",
     "output_type": "stream",
     "text": [
      "100%|███████████████████████████████████████| 276/276 [00:00<00:00, 4049.35it/s]\n"
     ]
    },
    {
     "name": "stdout",
     "output_type": "stream",
     "text": [
      "Resolving overlaps...\n",
      "Assigning order 2 pieces...\n",
      "Filling gaps...\n"
     ]
    },
    {
     "name": "stderr",
     "output_type": "stream",
     "text": [
      "Gaps to simplify: 100%|██████████████████████████| 3/3 [00:00<00:00, 102.25it/s]\n",
      "Gaps to fill: 100%|██████████████████████████████| 2/2 [00:00<00:00, 103.39it/s]\n",
      "100%|███████████████████████████████████████| 262/262 [00:00<00:00, 1048.31it/s]\n",
      "100%|██████████████████████████████████████| 262/262 [00:00<00:00, 13268.47it/s]\n",
      "100%|███████████████████████████████████████| 262/262 [00:00<00:00, 6631.03it/s]\n",
      "100%|███████████████████████████████████████| 262/262 [00:00<00:00, 1186.66it/s]\n",
      "100%|████████████████████████████████████████| 262/262 [00:01<00:00, 222.49it/s]\n"
     ]
    },
    {
     "name": "stdout",
     "output_type": "stream",
     "text": [
      "population agrees\n"
     ]
    }
   ],
   "source": [
    "# check the result here\n",
    "start_col = 2\n",
    "election_df = add_vest(vest18, election_df, '18', population_df, start_col)"
   ]
  },
  {
   "cell_type": "markdown",
   "id": "4c2242fc-fa2c-4972-a04d-a50a46059476",
   "metadata": {},
   "source": [
    "### vest 16\n",
    "We adjusted the crs here b/c we had two common utm crs's for Hawaii and needed to just pick one."
   ]
  },
  {
   "cell_type": "code",
   "execution_count": 53,
   "id": "4d7476dd-c003-4fa5-ab9b-8ed6f75bed39",
   "metadata": {
    "tags": []
   },
   "outputs": [
    {
     "data": {
      "text/plain": [
       "Index(['precinct', 'G16PREDCli', 'G16PRERTru', 'G16PREGSte', 'G16PRELJoh',\n",
       "       'G16PRECCas', 'G16USSDSch', 'G16USSRCar', 'G16USSAGiu', 'G16USSLKok',\n",
       "       'G16USSCAll', 'geometry'],\n",
       "      dtype='object')"
      ]
     },
     "execution_count": 53,
     "metadata": {},
     "output_type": "execute_result"
    }
   ],
   "source": [
    "vest16 = gpd.read_file(vest16_data)\n",
    "vest16.columns"
   ]
  },
  {
   "cell_type": "code",
   "execution_count": 54,
   "id": "0240b6a0-0635-45bc-ace8-e93985deeeca",
   "metadata": {},
   "outputs": [],
   "source": [
    "vest16 = vest16.to_crs(election_df.crs)"
   ]
  },
  {
   "cell_type": "code",
   "execution_count": 55,
   "id": "579d1844-0a2c-4bf4-889d-a2234738cd2a",
   "metadata": {},
   "outputs": [
    {
     "name": "stderr",
     "output_type": "stream",
     "text": [
      "100%|████████████████████████████████████████| 264/264 [00:00<00:00, 362.43it/s]\n"
     ]
    },
    {
     "name": "stdout",
     "output_type": "stream",
     "text": [
      "There are 12 overlaps.\n",
      "There are 116 holes.\n",
      "Snapping all geometries to a grid with precision 10^( -4 ) to avoid GEOS errors.\n",
      "Identifying overlaps...\n"
     ]
    },
    {
     "name": "stderr",
     "output_type": "stream",
     "text": [
      "100%|████████████████████████████████████████| 551/551 [00:01<00:00, 296.64it/s]\n"
     ]
    },
    {
     "name": "stdout",
     "output_type": "stream",
     "text": [
      "Resolving overlaps...\n",
      "Assigning order 2 pieces...\n",
      "Filling gaps...\n"
     ]
    },
    {
     "name": "stderr",
     "output_type": "stream",
     "text": [
      "Gaps to simplify: 100%|███████████████████████| 131/131 [00:33<00:00,  3.95it/s]\n",
      "Gaps to fill: 100%|███████████████████████████████| 2/2 [00:00<00:00,  3.18it/s]\n",
      "100%|████████████████████████████████████████| 264/264 [00:00<00:00, 387.93it/s]\n",
      "100%|████████████████████████████████████████| 264/264 [00:00<00:00, 757.45it/s]\n",
      "100%|█████████████████████████████████████████| 264/264 [00:06<00:00, 40.77it/s]\n",
      "100%|███████████████████████████████████████| 262/262 [00:00<00:00, 1157.88it/s]\n",
      "100%|████████████████████████████████████████| 262/262 [00:01<00:00, 229.16it/s]"
     ]
    },
    {
     "name": "stdout",
     "output_type": "stream",
     "text": [
      "population agrees\n"
     ]
    },
    {
     "name": "stderr",
     "output_type": "stream",
     "text": [
      "\n"
     ]
    }
   ],
   "source": [
    "start_col = 1\n",
    "election_df = add_vest(vest16, election_df, '16', population_df, start_col)"
   ]
  },
  {
   "cell_type": "markdown",
   "id": "10cf83d4-6005-485b-8193-c0149869a97e",
   "metadata": {},
   "source": [
    "## Add the district data"
   ]
  },
  {
   "cell_type": "code",
   "execution_count": 57,
   "id": "a0ccb606-7fe4-4b0a-998b-337d31f4abc5",
   "metadata": {},
   "outputs": [],
   "source": [
    "cong_df = gpd.read_file(cd_data)\n",
    "cong_df = cong_df.to_crs(election_df.crs)\n",
    "send = gpd.read_file(send_data)\n",
    "send = send.to_crs(election_df.crs)\n",
    "hdist = gpd.read_file(hdist_data)\n",
    "hdist = hdist.to_crs(election_df.crs)"
   ]
  },
  {
   "cell_type": "code",
   "execution_count": 58,
   "id": "dd5dba22-3d02-4361-9408-db49f0a1ac4d",
   "metadata": {},
   "outputs": [
    {
     "data": {
      "text/html": [
       "<div>\n",
       "<style scoped>\n",
       "    .dataframe tbody tr th:only-of-type {\n",
       "        vertical-align: middle;\n",
       "    }\n",
       "\n",
       "    .dataframe tbody tr th {\n",
       "        vertical-align: top;\n",
       "    }\n",
       "\n",
       "    .dataframe thead th {\n",
       "        text-align: right;\n",
       "    }\n",
       "</style>\n",
       "<table border=\"1\" class=\"dataframe\">\n",
       "  <thead>\n",
       "    <tr style=\"text-align: right;\">\n",
       "      <th></th>\n",
       "      <th>LONGNAME</th>\n",
       "      <th>SHORTNAME</th>\n",
       "      <th>DISTRICT</th>\n",
       "      <th>COLOR</th>\n",
       "      <th>TARGET_DEV</th>\n",
       "      <th>TOTAL</th>\n",
       "      <th>TARGET</th>\n",
       "      <th>DEVIATION_</th>\n",
       "      <th>DEVIATION</th>\n",
       "      <th>geometry</th>\n",
       "    </tr>\n",
       "  </thead>\n",
       "  <tbody>\n",
       "    <tr>\n",
       "      <th>0</th>\n",
       "      <td>Congressional 1</td>\n",
       "      <td>CD1</td>\n",
       "      <td>1</td>\n",
       "      <td>434209920</td>\n",
       "      <td>-1241</td>\n",
       "      <td>726395</td>\n",
       "      <td>727636</td>\n",
       "      <td>-0.17</td>\n",
       "      <td>-1241</td>\n",
       "      <td>POLYGON ((1252843.733 2363150.543, 1252755.387...</td>\n",
       "    </tr>\n",
       "    <tr>\n",
       "      <th>1</th>\n",
       "      <td>Congressional 2</td>\n",
       "      <td>CD2</td>\n",
       "      <td>2</td>\n",
       "      <td>-124684160</td>\n",
       "      <td>1240</td>\n",
       "      <td>728876</td>\n",
       "      <td>727636</td>\n",
       "      <td>0.17</td>\n",
       "      <td>1240</td>\n",
       "      <td>MULTIPOLYGON (((1054950.542 2472256.992, 10555...</td>\n",
       "    </tr>\n",
       "  </tbody>\n",
       "</table>\n",
       "</div>"
      ],
      "text/plain": [
       "          LONGNAME SHORTNAME  DISTRICT      COLOR  TARGET_DEV   TOTAL  TARGET  \\\n",
       "0  Congressional 1       CD1         1  434209920       -1241  726395  727636   \n",
       "1  Congressional 2       CD2         2 -124684160        1240  728876  727636   \n",
       "\n",
       "   DEVIATION_  DEVIATION                                           geometry  \n",
       "0       -0.17      -1241  POLYGON ((1252843.733 2363150.543, 1252755.387...  \n",
       "1        0.17       1240  MULTIPOLYGON (((1054950.542 2472256.992, 10555...  "
      ]
     },
     "execution_count": 58,
     "metadata": {},
     "output_type": "execute_result"
    }
   ],
   "source": [
    "cong_df.head()"
   ]
  },
  {
   "cell_type": "code",
   "execution_count": 59,
   "id": "72749f5b-c569-4a6b-a068-663267c845e6",
   "metadata": {},
   "outputs": [
    {
     "data": {
      "text/html": [
       "<div>\n",
       "<style scoped>\n",
       "    .dataframe tbody tr th:only-of-type {\n",
       "        vertical-align: middle;\n",
       "    }\n",
       "\n",
       "    .dataframe tbody tr th {\n",
       "        vertical-align: top;\n",
       "    }\n",
       "\n",
       "    .dataframe thead th {\n",
       "        text-align: right;\n",
       "    }\n",
       "</style>\n",
       "<table border=\"1\" class=\"dataframe\">\n",
       "  <thead>\n",
       "    <tr style=\"text-align: right;\">\n",
       "      <th></th>\n",
       "      <th>LONGNAME</th>\n",
       "      <th>SHORTNAME</th>\n",
       "      <th>DISTRICT</th>\n",
       "      <th>COLOR</th>\n",
       "      <th>TOTAL</th>\n",
       "      <th>TARGET</th>\n",
       "      <th>TARGET_DEV</th>\n",
       "      <th>PopHaw2022</th>\n",
       "      <th>geometry</th>\n",
       "    </tr>\n",
       "  </thead>\n",
       "  <tbody>\n",
       "    <tr>\n",
       "      <th>0</th>\n",
       "      <td>Senate 1</td>\n",
       "      <td>S1</td>\n",
       "      <td>1</td>\n",
       "      <td>-5800064</td>\n",
       "      <td>50485</td>\n",
       "      <td>49998</td>\n",
       "      <td>0.04</td>\n",
       "      <td>50019</td>\n",
       "      <td>POLYGON ((1548381.423 2219582.512, 1548390.658...</td>\n",
       "    </tr>\n",
       "    <tr>\n",
       "      <th>1</th>\n",
       "      <td>Senate 2</td>\n",
       "      <td>S2</td>\n",
       "      <td>2</td>\n",
       "      <td>-390135936</td>\n",
       "      <td>50344</td>\n",
       "      <td>49998</td>\n",
       "      <td>0.57</td>\n",
       "      <td>50284</td>\n",
       "      <td>POLYGON ((1525840.536 2190396.981, 1526653.877...</td>\n",
       "    </tr>\n",
       "    <tr>\n",
       "      <th>2</th>\n",
       "      <td>Senate 3</td>\n",
       "      <td>S3</td>\n",
       "      <td>3</td>\n",
       "      <td>-142612876</td>\n",
       "      <td>49943</td>\n",
       "      <td>49998</td>\n",
       "      <td>-0.22</td>\n",
       "      <td>49887</td>\n",
       "      <td>POLYGON ((1516787.542 2188262.701, 1516798.490...</td>\n",
       "    </tr>\n",
       "    <tr>\n",
       "      <th>3</th>\n",
       "      <td>Senate 4</td>\n",
       "      <td>S4</td>\n",
       "      <td>4</td>\n",
       "      <td>1944059776</td>\n",
       "      <td>49857</td>\n",
       "      <td>49998</td>\n",
       "      <td>-0.40</td>\n",
       "      <td>49800</td>\n",
       "      <td>POLYGON ((1537783.134 2231653.333, 1538078.504...</td>\n",
       "    </tr>\n",
       "    <tr>\n",
       "      <th>4</th>\n",
       "      <td>Senate 8</td>\n",
       "      <td>S8</td>\n",
       "      <td>8</td>\n",
       "      <td>-724345472</td>\n",
       "      <td>73298</td>\n",
       "      <td>73004</td>\n",
       "      <td>0.00</td>\n",
       "      <td>73004</td>\n",
       "      <td>MULTIPOLYGON (((985577.304 2424062.739, 985757...</td>\n",
       "    </tr>\n",
       "  </tbody>\n",
       "</table>\n",
       "</div>"
      ],
      "text/plain": [
       "   LONGNAME SHORTNAME  DISTRICT       COLOR  TOTAL  TARGET  TARGET_DEV  \\\n",
       "0  Senate 1        S1         1    -5800064  50485   49998        0.04   \n",
       "1  Senate 2        S2         2  -390135936  50344   49998        0.57   \n",
       "2  Senate 3        S3         3  -142612876  49943   49998       -0.22   \n",
       "3  Senate 4        S4         4  1944059776  49857   49998       -0.40   \n",
       "4  Senate 8        S8         8  -724345472  73298   73004        0.00   \n",
       "\n",
       "   PopHaw2022                                           geometry  \n",
       "0       50019  POLYGON ((1548381.423 2219582.512, 1548390.658...  \n",
       "1       50284  POLYGON ((1525840.536 2190396.981, 1526653.877...  \n",
       "2       49887  POLYGON ((1516787.542 2188262.701, 1516798.490...  \n",
       "3       49800  POLYGON ((1537783.134 2231653.333, 1538078.504...  \n",
       "4       73004  MULTIPOLYGON (((985577.304 2424062.739, 985757...  "
      ]
     },
     "execution_count": 59,
     "metadata": {},
     "output_type": "execute_result"
    }
   ],
   "source": [
    "send.head()"
   ]
  },
  {
   "cell_type": "code",
   "execution_count": 60,
   "id": "9d988b70-56a2-4b00-9b81-36384c278f37",
   "metadata": {},
   "outputs": [
    {
     "data": {
      "text/html": [
       "<div>\n",
       "<style scoped>\n",
       "    .dataframe tbody tr th:only-of-type {\n",
       "        vertical-align: middle;\n",
       "    }\n",
       "\n",
       "    .dataframe tbody tr th {\n",
       "        vertical-align: top;\n",
       "    }\n",
       "\n",
       "    .dataframe thead th {\n",
       "        text-align: right;\n",
       "    }\n",
       "</style>\n",
       "<table border=\"1\" class=\"dataframe\">\n",
       "  <thead>\n",
       "    <tr style=\"text-align: right;\">\n",
       "      <th></th>\n",
       "      <th>LONGNAME</th>\n",
       "      <th>SHORTNAME</th>\n",
       "      <th>DISTRICT</th>\n",
       "      <th>COLOR</th>\n",
       "      <th>TOTAL</th>\n",
       "      <th>TARGET_DEV</th>\n",
       "      <th>TARGET</th>\n",
       "      <th>PopHaw2022</th>\n",
       "      <th>geometry</th>\n",
       "    </tr>\n",
       "  </thead>\n",
       "  <tbody>\n",
       "    <tr>\n",
       "      <th>0</th>\n",
       "      <td>House 1</td>\n",
       "      <td>H1</td>\n",
       "      <td>1</td>\n",
       "      <td>873226624</td>\n",
       "      <td>25246</td>\n",
       "      <td>0.67</td>\n",
       "      <td>24999</td>\n",
       "      <td>25166</td>\n",
       "      <td>POLYGON ((1542561.607 2211724.518, 1542555.444...</td>\n",
       "    </tr>\n",
       "    <tr>\n",
       "      <th>1</th>\n",
       "      <td>House 2</td>\n",
       "      <td>H2</td>\n",
       "      <td>2</td>\n",
       "      <td>-602205056</td>\n",
       "      <td>25215</td>\n",
       "      <td>-0.36</td>\n",
       "      <td>24999</td>\n",
       "      <td>24908</td>\n",
       "      <td>POLYGON ((1537324.522 2204037.633, 1537912.846...</td>\n",
       "    </tr>\n",
       "    <tr>\n",
       "      <th>2</th>\n",
       "      <td>House 3</td>\n",
       "      <td>H3</td>\n",
       "      <td>3</td>\n",
       "      <td>1957388416</td>\n",
       "      <td>25170</td>\n",
       "      <td>0.14</td>\n",
       "      <td>24999</td>\n",
       "      <td>25035</td>\n",
       "      <td>POLYGON ((1542861.017 2213587.194, 1542859.849...</td>\n",
       "    </tr>\n",
       "    <tr>\n",
       "      <th>3</th>\n",
       "      <td>House 4</td>\n",
       "      <td>H4</td>\n",
       "      <td>4</td>\n",
       "      <td>-858171264</td>\n",
       "      <td>25080</td>\n",
       "      <td>0.26</td>\n",
       "      <td>24999</td>\n",
       "      <td>25065</td>\n",
       "      <td>POLYGON ((1560282.694 2197998.400, 1560286.926...</td>\n",
       "    </tr>\n",
       "    <tr>\n",
       "      <th>4</th>\n",
       "      <td>House 5</td>\n",
       "      <td>H5</td>\n",
       "      <td>5</td>\n",
       "      <td>2048902272</td>\n",
       "      <td>25515</td>\n",
       "      <td>1.94</td>\n",
       "      <td>24999</td>\n",
       "      <td>25485</td>\n",
       "      <td>POLYGON ((1498182.003 2202115.869, 1498338.130...</td>\n",
       "    </tr>\n",
       "  </tbody>\n",
       "</table>\n",
       "</div>"
      ],
      "text/plain": [
       "  LONGNAME SHORTNAME  DISTRICT       COLOR  TOTAL  TARGET_DEV  TARGET  \\\n",
       "0  House 1        H1         1   873226624  25246        0.67   24999   \n",
       "1  House 2        H2         2  -602205056  25215       -0.36   24999   \n",
       "2  House 3        H3         3  1957388416  25170        0.14   24999   \n",
       "3  House 4        H4         4  -858171264  25080        0.26   24999   \n",
       "4  House 5        H5         5  2048902272  25515        1.94   24999   \n",
       "\n",
       "   PopHaw2022                                           geometry  \n",
       "0       25166  POLYGON ((1542561.607 2211724.518, 1542555.444...  \n",
       "1       24908  POLYGON ((1537324.522 2204037.633, 1537912.846...  \n",
       "2       25035  POLYGON ((1542861.017 2213587.194, 1542859.849...  \n",
       "3       25065  POLYGON ((1560282.694 2197998.400, 1560286.926...  \n",
       "4       25485  POLYGON ((1498182.003 2202115.869, 1498338.130...  "
      ]
     },
     "execution_count": 60,
     "metadata": {},
     "output_type": "execute_result"
    }
   ],
   "source": [
    "hdist.head()"
   ]
  },
  {
   "cell_type": "code",
   "execution_count": 61,
   "id": "2b8fbf45-f392-4996-9dc6-e9ee67d0e715",
   "metadata": {
    "tags": []
   },
   "outputs": [
    {
     "name": "stderr",
     "output_type": "stream",
     "text": [
      "100%|████████████████████████████████████████████| 2/2 [00:00<00:00, 423.13it/s]\n",
      "100%|████████████████████████████████████████████| 2/2 [00:00<00:00, 282.16it/s]\n",
      "100%|█████████████████████████████████████████████| 2/2 [00:00<00:00, 87.93it/s]\n"
     ]
    }
   ],
   "source": [
    "election_df = add_district(cong_df, \"CD\", election_df, \"DISTRICT\")"
   ]
  },
  {
   "cell_type": "code",
   "execution_count": 62,
   "id": "a9fe98af-f37e-4200-835e-f96695f68e41",
   "metadata": {
    "tags": []
   },
   "outputs": [
    {
     "name": "stderr",
     "output_type": "stream",
     "text": [
      "100%|██████████████████████████████████████████| 25/25 [00:00<00:00, 608.67it/s]\n",
      "100%|█████████████████████████████████████████| 25/25 [00:00<00:00, 1829.91it/s]\n",
      "100%|██████████████████████████████████████████| 25/25 [00:00<00:00, 203.78it/s]\n"
     ]
    }
   ],
   "source": [
    "election_df = add_district(send, \"SEND\", election_df, \"DISTRICT\")"
   ]
  },
  {
   "cell_type": "code",
   "execution_count": 63,
   "id": "da4c6235-1028-43d0-adde-affe669c3f20",
   "metadata": {
    "tags": []
   },
   "outputs": [
    {
     "name": "stderr",
     "output_type": "stream",
     "text": [
      "100%|██████████████████████████████████████████| 51/51 [00:00<00:00, 544.57it/s]\n",
      "100%|█████████████████████████████████████████| 51/51 [00:00<00:00, 2398.87it/s]\n",
      "100%|██████████████████████████████████████████| 51/51 [00:00<00:00, 209.29it/s]\n"
     ]
    }
   ],
   "source": [
    "election_df = add_district(hdist, \"HDIST\", election_df, \"DISTRICT\")"
   ]
  },
  {
   "cell_type": "code",
   "execution_count": 64,
   "id": "aaee6a30-6a18-473e-bd02-7881c1e94e68",
   "metadata": {},
   "outputs": [
    {
     "data": {
      "text/plain": [
       "Index(['2MOREVAP', 'AMINVAP', 'ASIANVAP', 'BVAP', 'COUNTYFP', 'GEOID',\n",
       "       'GOV18D', 'GOV18O', 'GOV18R', 'HISP', 'HVAP', 'H_2MORE', 'H_AMIN',\n",
       "       'H_ASIAN', 'H_BLACK', 'H_NHPI', 'H_OTHER', 'H_WHITE', 'NHPIVAP',\n",
       "       'NH_2MORE', 'NH_AMIN', 'NH_ASIAN', 'NH_BLACK', 'NH_NHPI', 'NH_OTHER',\n",
       "       'NH_WHITE', 'OTHERVAP', 'PRE16D', 'PRE16O', 'PRE16R', 'PRE20D',\n",
       "       'PRE20O', 'PRE20R', 'PRECINCT', 'STATEFP', 'TOTPOP', 'USS16D', 'USS16O',\n",
       "       'USS16R', 'USS18D', 'USS18R', 'VAP', 'WVAP', 'geometry', 'CD', 'SEND',\n",
       "       'HDIST'],\n",
       "      dtype='object')"
      ]
     },
     "execution_count": 64,
     "metadata": {},
     "output_type": "execute_result"
    }
   ],
   "source": [
    "election_df.columns"
   ]
  },
  {
   "cell_type": "markdown",
   "id": "0bba365b-7d46-45ea-9b8b-400fc162a82f",
   "metadata": {},
   "source": [
    "### Put the base precinct year after the precinct information column"
   ]
  },
  {
   "cell_type": "code",
   "execution_count": 66,
   "id": "7086205b-49f4-44a7-be19-9eeac924e07b",
   "metadata": {},
   "outputs": [],
   "source": [
    "base_columns = {}\n",
    "if 'COUNTYFP' + year not in election_df.columns:\n",
    "    base_columns = {\n",
    "        'STATEFP':'STATEFP'+year,\n",
    "        'COUNTYFP':'COUNTYFP'+year,\n",
    "        'PRECINCT':'PRECINCT'+year,\n",
    "        'GEOID':'GEOID'+year,\n",
    "        'NAME':'NAME'+year}\n",
    "election_df.rename(columns=base_columns, inplace = True)"
   ]
  },
  {
   "cell_type": "code",
   "execution_count": 67,
   "id": "3ea62760-cc32-4fcc-8475-c3ba956cb901",
   "metadata": {},
   "outputs": [],
   "source": [
    "# reorder the columns\n",
    "fixed_columns = [\n",
    "    'STATEFP'+year,\n",
    "    'COUNTYFP'+year,\n",
    "    'PRECINCT'+year,\n",
    "    'GEOID'+year,\n",
    "    # 'NAME'+year,\n",
    "    'CD',\n",
    "    'SEND',\n",
    "    'HDIST',\n",
    "    'TOTPOP',\n",
    "    'NH_2MORE',\n",
    "    'NH_AMIN',\n",
    "    'NH_ASIAN',\n",
    "    'NH_BLACK',\n",
    "    'NH_NHPI',\n",
    "    'NH_OTHER',\n",
    "    'NH_WHITE',\n",
    "    'HISP',\n",
    "    'H_AMIN',\n",
    "    'H_ASIAN',\n",
    "    'H_BLACK',\n",
    "    'H_NHPI',\n",
    "    'H_OTHER',\n",
    "    'H_WHITE',\n",
    "    'H_2MORE',\n",
    "    'VAP',\n",
    "    'HVAP',\n",
    "    'WVAP',\n",
    "    'BVAP',\n",
    "    'AMINVAP',\n",
    "    'ASIANVAP',\n",
    "    'NHPIVAP',\n",
    "    'OTHERVAP',\n",
    "    '2MOREVAP']\n",
    "\n",
    "election_columns = [col for col in election_df.columns if col not in fixed_columns]\n",
    "final_col = fixed_columns + election_columns\n",
    "election_df = election_df[final_col]"
   ]
  },
  {
   "cell_type": "code",
   "execution_count": 68,
   "id": "fd2b8af8-fac1-44f2-84eb-b2870384daaf",
   "metadata": {},
   "outputs": [
    {
     "data": {
      "text/plain": [
       "['STATEFP20',\n",
       " 'COUNTYFP20',\n",
       " 'PRECINCT20',\n",
       " 'GEOID20',\n",
       " 'CD',\n",
       " 'SEND',\n",
       " 'HDIST',\n",
       " 'TOTPOP',\n",
       " 'NH_2MORE',\n",
       " 'NH_AMIN',\n",
       " 'NH_ASIAN',\n",
       " 'NH_BLACK',\n",
       " 'NH_NHPI',\n",
       " 'NH_OTHER',\n",
       " 'NH_WHITE',\n",
       " 'HISP',\n",
       " 'H_AMIN',\n",
       " 'H_ASIAN',\n",
       " 'H_BLACK',\n",
       " 'H_NHPI',\n",
       " 'H_OTHER',\n",
       " 'H_WHITE',\n",
       " 'H_2MORE',\n",
       " 'VAP',\n",
       " 'HVAP',\n",
       " 'WVAP',\n",
       " 'BVAP',\n",
       " 'AMINVAP',\n",
       " 'ASIANVAP',\n",
       " 'NHPIVAP',\n",
       " 'OTHERVAP',\n",
       " '2MOREVAP',\n",
       " 'GOV18D',\n",
       " 'GOV18O',\n",
       " 'GOV18R',\n",
       " 'PRE16D',\n",
       " 'PRE16O',\n",
       " 'PRE16R',\n",
       " 'PRE20D',\n",
       " 'PRE20O',\n",
       " 'PRE20R',\n",
       " 'USS16D',\n",
       " 'USS16O',\n",
       " 'USS16R',\n",
       " 'USS18D',\n",
       " 'USS18R',\n",
       " 'geometry']"
      ]
     },
     "execution_count": 68,
     "metadata": {},
     "output_type": "execute_result"
    }
   ],
   "source": [
    "list(election_df.columns)"
   ]
  },
  {
   "cell_type": "code",
   "execution_count": 69,
   "id": "1b198042-dbd4-408e-bfd4-4494f2b49245",
   "metadata": {
    "tags": []
   },
   "outputs": [],
   "source": [
    "directory = \"./{}\".format(state_ab)\n",
    "if not os.path.exists(directory):\n",
    "    os.makedirs(directory)\n",
    "\n",
    "shapefile_path = \"./{}/{}.shp\".format(state_ab, state_ab)\n",
    "geojson_path = './{}/{}.geojson'.format(state_ab, state_ab)\n",
    "json_path = \"./{}.json\".format(state_ab, state_ab)\n",
    "\n",
    "# Check if the shapefile or geojson file already exists\n",
    "if os.path.exists(shapefile_path):\n",
    "    os.remove(shapefile_path)\n",
    "if os.path.exists(geojson_path):\n",
    "    os.remove(geojson_path)\n",
    "\n",
    "election_df.to_file(shapefile_path)\n",
    "election_df.to_file(geojson_path, driver='GeoJSON')\n",
    "\n",
    "# Only do once to build json and read from file when generating ensembles\n",
    "graph = Graph.from_file(shapefile_path, ignore_errors=True)\n",
    "graph.to_json(json_path)"
   ]
  },
  {
   "cell_type": "code",
   "execution_count": 70,
   "id": "a8ba4789-8282-428a-90d4-e59ee50f4064",
   "metadata": {},
   "outputs": [
    {
     "data": {
      "text/plain": [
       "<Axes: >"
      ]
     },
     "execution_count": 70,
     "metadata": {},
     "output_type": "execute_result"
    },
    {
     "data": {
      "image/png": "[encoded data removed]",
      "text/plain": [
       "<Figure size 640x480 with 1 Axes>"
      ]
     },
     "metadata": {},
     "output_type": "display_data"
    }
   ],
   "source": [
    "shapefile_path = \"./{}/{}.shp\".format(state_ab, state_ab)\n",
    "shape=gpd.read_file(shapefile_path)\n",
    "shape.plot()"
   ]
  }
 ],
 "metadata": {
  "kernelspec": {
   "display_name": "gerry",
   "language": "python",
   "name": "gerry"
  },
  "language_info": {
   "codemirror_mode": {
    "name": "ipython",
    "version": 3
   },
   "file_extension": ".py",
   "mimetype": "text/x-python",
   "name": "python",
   "nbconvert_exporter": "python",
   "pygments_lexer": "ipython3",
   "version": "3.11.4"
  }
 },
 "nbformat": 4,
 "nbformat_minor": 5
}
